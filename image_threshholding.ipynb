{
 "cells": [
  {
   "cell_type": "code",
   "execution_count": 3,
   "id": "b556de23-ddf5-42d2-b199-78abcb1ba837",
   "metadata": {
    "tags": [],
    "ExecuteTime": {
     "end_time": "2024-04-08T18:04:05.269410Z",
     "start_time": "2024-04-08T18:04:05.266341Z"
    }
   },
   "outputs": [],
   "source": [
    "import cv2\n",
    "from matplotlib import pyplot as plt"
   ]
  },
  {
   "cell_type": "code",
   "execution_count": 4,
   "id": "6109212c-f21c-4593-800a-c6ba126e1f39",
   "metadata": {
    "ExecuteTime": {
     "end_time": "2024-04-08T18:04:05.277021Z",
     "start_time": "2024-04-08T18:04:05.269612Z"
    }
   },
   "outputs": [],
   "source": [
    "img = cv2.imread('test_image.png')\n",
    "cv2.imshow('Original', img)"
   ]
  },
  {
   "cell_type": "code",
   "outputs": [],
   "source": [],
   "metadata": {
    "collapsed": false,
    "ExecuteTime": {
     "end_time": "2024-04-08T18:04:05.279848Z",
     "start_time": "2024-04-08T18:04:05.275495Z"
    }
   },
   "id": "88a589e8f7a6e7b2",
   "execution_count": 4
  }
 ],
 "metadata": {
  "kernelspec": {
   "display_name": "Python 3 (ipykernel)",
   "language": "python",
   "name": "python3"
  },
  "language_info": {
   "codemirror_mode": {
    "name": "ipython",
    "version": 3
   },
   "file_extension": ".py",
   "mimetype": "text/x-python",
   "name": "python",
   "nbconvert_exporter": "python",
   "pygments_lexer": "ipython3",
   "version": "3.11.5"
  }
 },
 "nbformat": 4,
 "nbformat_minor": 5
}
